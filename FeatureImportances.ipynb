{
  "nbformat": 4,
  "nbformat_minor": 0,
  "metadata": {
    "colab": {
      "provenance": [],
      "mount_file_id": "1wX3yoBfUAWaVv-k-eUHaP5CPibJLJZlP",
      "authorship_tag": "ABX9TyOzo7uwkz6M8U5/WwtkALT5",
      "include_colab_link": true
    },
    "kernelspec": {
      "name": "python3",
      "display_name": "Python 3"
    },
    "language_info": {
      "name": "python"
    }
  },
  "cells": [
    {
      "cell_type": "markdown",
      "metadata": {
        "id": "view-in-github",
        "colab_type": "text"
      },
      "source": [
        "<a href=\"https://colab.research.google.com/github/SnehaDharne/GDM-diagnosis/blob/main/FeatureImportances.ipynb\" target=\"_parent\"><img src=\"https://colab.research.google.com/assets/colab-badge.svg\" alt=\"Open In Colab\"/></a>"
      ]
    },
    {
      "cell_type": "code",
      "source": [
        "path='/content/drive/MyDrive/datasets for colab/pima-indians-diabetes.csv'\n",
        "import pandas as pd\n",
        "import numpy as np\n",
        "from scipy import stats\n",
        "from sklearn.ensemble import RandomForestClassifier\n",
        "import xgboost as xgb\n",
        "from sklearn.metrics import confusion_matrix, accuracy_score, classification_report, mean_squared_error"
      ],
      "metadata": {
        "id": "Co3Tz-UwA60P"
      },
      "execution_count": null,
      "outputs": []
    },
    {
      "cell_type": "code",
      "source": [
        "df=pd.read_csv(path)\n",
        "# make age category column which will help age-appropriate in filling values which are 0\n",
        "df['age_category'] = pd.cut(df['Age'], bins=[0, 21, 31, 41, 51, 61, 71, 81, np.inf], labels=[1,2,3,4,5,6,7,8])\n",
        "df['age_category'] = df['age_category'].astype(int)\n",
        "agecat = [1,2,3,4,5,6,7,8]\n",
        "\n",
        "\n",
        "features = ['Glucose', 'BloodPressure', 'SkinThickness', 'BMI','Insulin']\n",
        "for feature in features:\n",
        "  for agec in agecat:\n",
        "        if df[feature].dtype == 'float64':\n",
        "            df[feature].replace(0, round(df[df['age_category'] == agec][feature].median(), 1), inplace=True)\n",
        "        else:\n",
        "            df[feature].replace(0, round(df[df['age_category'] == agec][feature].median(), 0), inplace=True)\n",
        "\n",
        "\n",
        "\n",
        "\n",
        "from scipy import stats\n",
        "import numpy as np\n",
        "z= np.abs(stats.zscore(df))\n",
        "\n",
        "threshold = 3\n",
        "\n",
        "df = df[(z < 3).all(axis=1)]\n",
        "\n",
        "q1 = df.quantile(0.25)\n",
        "q3 = df.quantile(0.75)\n",
        "iqr= q3-q1\n",
        "\n",
        "df = df[~((df <(q1 - 1.5 * iqr))|(df>(q3+1.5*iqr))).any(axis=1)]\n",
        "\n",
        "from sklearn.model_selection import train_test_split\n",
        "X = df.drop(['Outcome'], axis=1)\n",
        "y = df['Outcome']\n",
        "X_train, X_test, y_train, y_test = train_test_split(X, y, test_size=0.2, random_state=42, stratify=y)"
      ],
      "metadata": {
        "id": "BmlVHwt3BLN9"
      },
      "execution_count": null,
      "outputs": []
    },
    {
      "cell_type": "code",
      "source": [
        "#RandomForest"
      ],
      "metadata": {
        "id": "FTBcQjVNBhz-"
      },
      "execution_count": null,
      "outputs": []
    },
    {
      "cell_type": "code",
      "source": [
        "rf = RandomForestClassifier(n_jobs=-1 ,n_estimators=700, oob_score = True, max_features='sqrt')\n",
        "rf.fit(X_train,y_train)\n",
        "y_pred=rf.predict(X_test)\n",
        "print(classification_report(y_test, y_pred))"
      ],
      "metadata": {
        "colab": {
          "base_uri": "https://localhost:8080/"
        },
        "id": "O4Xd4p01BWBy",
        "outputId": "14424c2e-ebc4-4b48-cc60-f1d88c7bc290"
      },
      "execution_count": null,
      "outputs": [
        {
          "output_type": "stream",
          "name": "stdout",
          "text": [
            "              precision    recall  f1-score   support\n",
            "\n",
            "           0       0.85      0.87      0.86        82\n",
            "           1       0.68      0.64      0.66        36\n",
            "\n",
            "    accuracy                           0.80       118\n",
            "   macro avg       0.76      0.75      0.76       118\n",
            "weighted avg       0.79      0.80      0.79       118\n",
            "\n"
          ]
        }
      ]
    },
    {
      "cell_type": "code",
      "source": [
        "df1=df.drop('Outcome',axis=1, inplace=True)\n",
        "df1_list= list(df.columns)\n",
        "df2=np.array(df1)\n",
        "import matplotlib.pyplot as plt\n",
        "# Get numerical feature importances\n",
        "importances = list(rf.feature_importances_)\n",
        "\n",
        "# List of tuples with variable and importance\n",
        "feature_importances = [(df2, round(importance, 2)) for df2, importance in zip(df1_list, importances)]\n",
        "\n",
        "# Sort the feature importances by most important first\n",
        "feature_importances = sorted(feature_importances, key = lambda x: x[1], reverse = True)\n",
        "\n",
        "# Print out the feature and importances\n",
        "[print('Variable: {:20} Importance: {}'.format(*pair)) for pair in feature_importances];\n",
        "feature_importance = pd.DataFrame(feature_importances, columns =['Feature', 'Importance'])\n",
        "ax = feature_importance.plot.barh(x='Feature', y='Importance')\n",
        "\n"
      ],
      "metadata": {
        "colab": {
          "base_uri": "https://localhost:8080/",
          "height": 429
        },
        "id": "UPtUl1CtBs_l",
        "outputId": "0405f85f-ea66-411d-d852-0f0abb159549"
      },
      "execution_count": null,
      "outputs": [
        {
          "output_type": "stream",
          "name": "stdout",
          "text": [
            "Variable: Glucose              Importance: 0.26\n",
            "Variable: BMI                  Importance: 0.16\n",
            "Variable: DiabetesPedigreeFunction Importance: 0.13\n",
            "Variable: Age                  Importance: 0.12\n",
            "Variable: Pregnancies          Importance: 0.09\n",
            "Variable: BloodPressure        Importance: 0.08\n",
            "Variable: SkinThickness        Importance: 0.06\n",
            "Variable: Insulin              Importance: 0.06\n",
            "Variable: age_category         Importance: 0.04\n"
          ]
        },
        {
          "output_type": "display_data",
          "data": {
            "text/plain": [
              "<Figure size 432x288 with 1 Axes>"
            ],
            "image/png": "[encoded data removed]"
          },
          "metadata": {
            "needs_background": "light"
          }
        }
      ]
    },
    {
      "cell_type": "code",
      "source": [
        "#XGboost\n",
        "df=pd.read_csv(path)\n",
        "# make age category column which will help age-appropriate in filling values which are 0\n",
        "df['age_category'] = pd.cut(df['Age'], bins=[0, 21, 31, 41, 51, 61, 71, 81, np.inf], labels=[1,2,3,4,5,6,7,8])\n",
        "df['age_category'] = df['age_category'].astype(int)\n",
        "agecat = [1,2,3,4,5,6,7,8]\n",
        "\n",
        "\n",
        "features = ['Glucose', 'BloodPressure', 'SkinThickness', 'BMI','Insulin']\n",
        "for feature in features:\n",
        "  for agec in agecat:\n",
        "        if df[feature].dtype == 'float64':\n",
        "            df[feature].replace(0, round(df[df['age_category'] == agec][feature].median(), 1), inplace=True)\n",
        "        else:\n",
        "            df[feature].replace(0, round(df[df['age_category'] == agec][feature].median(), 0), inplace=True)\n",
        "\n",
        "\n",
        "\n",
        "\n",
        "from scipy import stats\n",
        "import numpy as np\n",
        "z= np.abs(stats.zscore(df))\n",
        "\n",
        "threshold = 3\n",
        "\n",
        "df = df[(z < 3).all(axis=1)]\n",
        "\n",
        "q1 = df.quantile(0.25)\n",
        "q3 = df.quantile(0.75)\n",
        "iqr= q3-q1\n",
        "\n",
        "df = df[~((df <(q1 - 1.5 * iqr))|(df>(q3+1.5*iqr))).any(axis=1)]\n",
        "\n",
        "from sklearn.model_selection import train_test_split\n",
        "X = df.drop(['Outcome'], axis=1)\n",
        "y = df['Outcome']\n",
        "X_train, X_test, y_train, y_test = train_test_split(X, y, test_size=0.2, random_state=42, stratify=y)\n",
        "xgbc = xgb.XGBClassifier(\n",
        " learning_rate = 0.01,\n",
        " n_estimators= 2000,\n",
        " max_depth= 9,\n",
        " min_child_weight= 2,\n",
        " #gamma=1,\n",
        " gamma=0.4,\n",
        " subsample=0.8,\n",
        " colsample_bytree=0.8,\n",
        " objective= 'binary:logistic',\n",
        " nthread= -1,\n",
        " scale_pos_weight=1).fit(X_train, y_train)"
      ],
      "metadata": {
        "id": "Btfpu6v5COPN"
      },
      "execution_count": null,
      "outputs": []
    },
    {
      "cell_type": "code",
      "source": [
        "y_pred = xgbc.predict(X_test)\n",
        "print(confusion_matrix(y_test, y_pred))\n",
        "print(\"Accuracy:\", accuracy_score(y_test, y_pred))\n",
        "model_mse = mean_squared_error(y_pred, y_test)\n",
        "print(model_mse)\n",
        "print(classification_report(y_test, y_pred))"
      ],
      "metadata": {
        "colab": {
          "base_uri": "https://localhost:8080/"
        },
        "id": "NN79xNFoDKe4",
        "outputId": "48f9eeb1-9482-4ded-c110-b2e92a34933b"
      },
      "execution_count": null,
      "outputs": [
        {
          "output_type": "stream",
          "name": "stdout",
          "text": [
            "[[70 12]\n",
            " [12 24]]\n",
            "Accuracy: 0.7966101694915254\n",
            "0.2033898305084746\n",
            "              precision    recall  f1-score   support\n",
            "\n",
            "           0       0.85      0.85      0.85        82\n",
            "           1       0.67      0.67      0.67        36\n",
            "\n",
            "    accuracy                           0.80       118\n",
            "   macro avg       0.76      0.76      0.76       118\n",
            "weighted avg       0.80      0.80      0.80       118\n",
            "\n"
          ]
        }
      ]
    },
    {
      "cell_type": "code",
      "source": [],
      "metadata": {
        "id": "mxGMAqdwJKn7"
      },
      "execution_count": null,
      "outputs": []
    },
    {
      "cell_type": "code",
      "source": [],
      "metadata": {
        "id": "aw_RBw-qJK67"
      },
      "execution_count": null,
      "outputs": []
    },
    {
      "cell_type": "code",
      "source": [
        "df1=df.drop('Outcome',axis=1, inplace= True )\n",
        "df1_list= list(df.columns)\n",
        "df2=np.array(df1)\n",
        "import matplotlib.pyplot as plt\n",
        "# Get numerical feature importances\n",
        "importances = list(xgbc.feature_importances_)\n",
        "\n",
        "# List of tuples with variable and importance\n",
        "feature_importances = [(df2, round(importance, 2)) for df2, importance in zip(df1_list, importances)]\n",
        "\n",
        "# Sort the feature importances by most important first\n",
        "feature_importances = sorted(feature_importances, key = lambda x: x[1], reverse = True)\n",
        "\n",
        "# Print out the feature and importances\n",
        "[print('Variable: {:20} Importance: {}'.format(*pair)) for pair in feature_importances];\n",
        "\n",
        "feature_importance = pd.DataFrame(feature_importances, columns =['Feature', 'Importance'])\n"
      ],
      "metadata": {
        "colab": {
          "base_uri": "https://localhost:8080/"
        },
        "id": "JopiFWioCjF8",
        "outputId": "766e859a-4060-4222-c496-0ba94e372596"
      },
      "execution_count": null,
      "outputs": [
        {
          "output_type": "stream",
          "name": "stdout",
          "text": [
            "Variable: age_category         Importance: 0.20000000298023224\n",
            "Variable: Glucose              Importance: 0.18000000715255737\n",
            "Variable: BMI                  Importance: 0.10999999940395355\n",
            "Variable: Age                  Importance: 0.10000000149011612\n",
            "Variable: Insulin              Importance: 0.09000000357627869\n",
            "Variable: DiabetesPedigreeFunction Importance: 0.09000000357627869\n",
            "Variable: Pregnancies          Importance: 0.07999999821186066\n",
            "Variable: BloodPressure        Importance: 0.07999999821186066\n",
            "Variable: SkinThickness        Importance: 0.07999999821186066\n"
          ]
        }
      ]
    },
    {
      "cell_type": "code",
      "source": [
        "ax = feature_importance.plot.barh(x='Feature', y='Importance')\n"
      ],
      "metadata": {
        "colab": {
          "base_uri": "https://localhost:8080/",
          "height": 265
        },
        "id": "00N4En_RJbnt",
        "outputId": "7ef0ea1b-87cb-4eb1-9f0a-07e7d051c462"
      },
      "execution_count": null,
      "outputs": [
        {
          "output_type": "display_data",
          "data": {
            "text/plain": [
              "<Figure size 432x288 with 1 Axes>"
            ],
            "image/png": "[encoded data removed]"
          },
          "metadata": {
            "needs_background": "light"
          }
        }
      ]
    },
    {
      "cell_type": "code",
      "source": [],
      "metadata": {
        "id": "K0jkMLnNJbrM"
      },
      "execution_count": null,
      "outputs": []
    },
    {
      "cell_type": "code",
      "source": [],
      "metadata": {
        "id": "R0oQU8v7HuP-"
      },
      "execution_count": null,
      "outputs": []
    },
    {
      "cell_type": "code",
      "source": [],
      "metadata": {
        "id": "2kk7qo76HuTj"
      },
      "execution_count": null,
      "outputs": []
    },
    {
      "cell_type": "code",
      "source": [],
      "metadata": {
        "id": "z3kXWQUGCvfS"
      },
      "execution_count": null,
      "outputs": []
    }
  ]
}