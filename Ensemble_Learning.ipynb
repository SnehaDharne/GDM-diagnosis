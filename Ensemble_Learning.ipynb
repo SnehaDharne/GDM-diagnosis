{
  "nbformat": 4,
  "nbformat_minor": 0,
  "metadata": {
    "colab": {
      "provenance": [],
      "mount_file_id": "1KrTcqe89_sqJKQ9RH7VMnmrJHLAatezh",
      "authorship_tag": "ABX9TyMgkT4GEqHbnt6MsB7MtNqu",
      "include_colab_link": true
    },
    "kernelspec": {
      "name": "python3",
      "display_name": "Python 3"
    },
    "language_info": {
      "name": "python"
    }
  },
  "cells": [
    {
      "cell_type": "markdown",
      "metadata": {
        "id": "view-in-github",
        "colab_type": "text"
      },
      "source": [
        "<a href=\"https://colab.research.google.com/github/SnehaDharne/GDM-diagnosis/blob/main/Ensemble_Learning.ipynb\" target=\"_parent\"><img src=\"https://colab.research.google.com/assets/colab-badge.svg\" alt=\"Open In Colab\"/></a>"
      ]
    },
    {
      "cell_type": "code",
      "execution_count": null,
      "metadata": {
        "id": "hMQyYUzR0Z3N"
      },
      "outputs": [],
      "source": [
        "path='/content/drive/MyDrive/datasets for colab/pima-indians-diabetes.csv'"
      ]
    },
    {
      "cell_type": "markdown",
      "source": [
        "This notebook includes Classifiers without wrapper method for:\n",
        "1. Voting Ensemble with LR, RF, NB and SVM\n",
        "2. Weighted Average Ensemble with LR, RF and SVM\n",
        "3. Stacking Ensemble with Xgboost, Ngboost and AdaBoost\n",
        "4. Bagging Decision Tree"
      ],
      "metadata": {
        "id": "JKIKJWB60dXs"
      }
    },
    {
      "cell_type": "code",
      "source": [
        "pip install vecstack"
      ],
      "metadata": {
        "colab": {
          "base_uri": "https://localhost:8080/"
        },
        "id": "2p5d33uGFaef",
        "outputId": "f73539e8-88ee-4575-d409-dcb5de2abfd2"
      },
      "execution_count": null,
      "outputs": [
        {
          "output_type": "stream",
          "name": "stdout",
          "text": [
            "Looking in indexes: https://pypi.org/simple, https://us-python.pkg.dev/colab-wheels/public/simple/\n",
            "Collecting vecstack\n",
            "  Downloading vecstack-0.4.0.tar.gz (18 kB)\n",
            "Requirement already satisfied: numpy in /usr/local/lib/python3.8/dist-packages (from vecstack) (1.21.6)\n",
            "Requirement already satisfied: scipy in /usr/local/lib/python3.8/dist-packages (from vecstack) (1.7.3)\n",
            "Requirement already satisfied: scikit-learn>=0.18 in /usr/local/lib/python3.8/dist-packages (from vecstack) (1.0.2)\n",
            "Requirement already satisfied: joblib>=0.11 in /usr/local/lib/python3.8/dist-packages (from scikit-learn>=0.18->vecstack) (1.2.0)\n",
            "Requirement already satisfied: threadpoolctl>=2.0.0 in /usr/local/lib/python3.8/dist-packages (from scikit-learn>=0.18->vecstack) (3.1.0)\n",
            "Building wheels for collected packages: vecstack\n",
            "  Building wheel for vecstack (setup.py) ... \u001b[?25l\u001b[?25hdone\n",
            "  Created wheel for vecstack: filename=vecstack-0.4.0-py3-none-any.whl size=19879 sha256=e172aeca5b255f32524ee23ac7cc6e6826681838a3db6b642c44e5ef0ca5a83a\n",
            "  Stored in directory: /root/.cache/pip/wheels/17/89/0b/21d5484cbf713c95b641ec1bdc40dd7ae798cbdea2337e3535\n",
            "Successfully built vecstack\n",
            "Installing collected packages: vecstack\n",
            "Successfully installed vecstack-0.4.0\n"
          ]
        }
      ]
    },
    {
      "cell_type": "code",
      "source": [
        "import pandas as pd\n",
        "import numpy as np\n",
        "\n",
        "from scipy import stats\n",
        "\n",
        "\n",
        "\n",
        "from sklearn.linear_model import LogisticRegression\n",
        "from sklearn.model_selection import GridSearchCV\n",
        "from sklearn.ensemble import RandomForestClassifier\n",
        "from sklearn.naive_bayes import GaussianNB\n",
        "from sklearn.ensemble import VotingClassifier\n",
        "import warnings\n",
        "warnings.filterwarnings('ignore')\n",
        "\n",
        "from vecstack import stacking\n",
        "from sklearn.tree import DecisionTreeClassifier\n",
        "from sklearn.model_selection import train_test_split\n",
        "from sklearn.ensemble import BaggingClassifier\n",
        "from sklearn.metrics import classification_report, confusion_matrix, mean_squared_error, accuracy_score"
      ],
      "metadata": {
        "id": "Bnsu6zYc2a-R"
      },
      "execution_count": null,
      "outputs": []
    },
    {
      "cell_type": "code",
      "source": [
        "df=pd.read_csv(path)\n",
        "# make age category column which will help age-appropriate in filling values which are 0\n",
        "df['age_category'] = pd.cut(df['Age'], bins=[0, 21, 31, 41, 51, 61, 71, 81, np.inf], labels=[1,2,3,4,5,6,7,8])\n",
        "df['age_category'] = df['age_category'].astype(int)\n",
        "agecat = [1,2,3,4,5,6,7,8]\n",
        "\n",
        "\n",
        "features = ['Glucose', 'BloodPressure', 'SkinThickness', 'BMI','Insulin']\n",
        "for feature in features:\n",
        "  for agec in agecat:\n",
        "        if df[feature].dtype == 'float64':\n",
        "            df[feature].replace(0, round(df[df['age_category'] == agec][feature].mean(), 1), inplace=True)\n",
        "        else:\n",
        "            df[feature].replace(0, round(df[df['age_category'] == agec][feature].mean(), 0), inplace=True)\n",
        "\n",
        "\n",
        "\n",
        "\n",
        "\n",
        "z= np.abs(stats.zscore(df))\n",
        "\n",
        "threshold = 3\n",
        "\n",
        "df = df[(z < 3).all(axis=1)]\n",
        "\n",
        "q1 = df.quantile(0.25)\n",
        "q3 = df.quantile(0.75)\n",
        "iqr= q3-q1\n",
        "\n",
        "\n",
        "df = df[~((df <(q1 - 1.5 * iqr))|(df>(q3+1.5*iqr))).any(axis=1)]\n",
        "\n",
        "X = df.drop(['Outcome'], axis=1)\n",
        "y = df['Outcome']\n",
        "X_train, X_test, y_train, y_test = train_test_split(X, y, test_size=0.2, random_state=42, stratify=y)\n",
        "\n",
        "\n"
      ],
      "metadata": {
        "id": "lXi4uuUq2kgv"
      },
      "execution_count": null,
      "outputs": []
    },
    {
      "cell_type": "code",
      "source": [
        "# parameter grid\n",
        "parameters = {\n",
        "    'penalty' : ['l1','l2','elastinet'],    #‘newton-cg’, ‘lbfgs’, ‘liblinear’, ‘sag’, ‘saga’\n",
        "    'C'       : np.logspace(-3,3,7),\n",
        "    'solver'  : ['newton-cg', 'lbfgs', 'liblinear','sag','saga'],\n",
        "}\n",
        "\n",
        "logreg = LogisticRegression()\n",
        "clf = GridSearchCV(logreg,                    # model\n",
        "                   param_grid = parameters,   # hyperparameters\n",
        "                   scoring='accuracy',        # metric for scoring\n",
        "                   cv=10)\n",
        "\n",
        "clf.fit(X_train,y_train)\n",
        "#lr=(solver='liblinear', C=10.0, penalty='l1')\n",
        "print(\"Tuned Hyperparameters :\", clf.best_params_)\n",
        "print(\"Accuracy :\",clf.best_score_)"
      ],
      "metadata": {
        "colab": {
          "base_uri": "https://localhost:8080/"
        },
        "id": "FFoWgwLT4ek5",
        "outputId": "46f0d561-5f78-44fb-bc0e-d74f7b17653b"
      },
      "execution_count": null,
      "outputs": [
        {
          "output_type": "stream",
          "name": "stdout",
          "text": [
            "Tuned Hyperparameters : {'C': 10.0, 'penalty': 'l1', 'solver': 'liblinear'}\n",
            "Accuracy : 0.8058080808080808\n"
          ]
        }
      ]
    },
    {
      "cell_type": "code",
      "source": [
        "lr=LogisticRegression(solver='liblinear', C=10.0, penalty='l1')\n",
        "lr.fit(X_train,y_train)\n",
        "y_pred=lr.predict(X_test)\n",
        "print(classification_report(y_test, y_pred))"
      ],
      "metadata": {
        "colab": {
          "base_uri": "https://localhost:8080/"
        },
        "id": "z8RXyJcJI-al",
        "outputId": "fc3ec3d4-bd49-4c5d-807f-cce21bbd42fe"
      },
      "execution_count": null,
      "outputs": [
        {
          "output_type": "stream",
          "name": "stdout",
          "text": [
            "              precision    recall  f1-score   support\n",
            "\n",
            "           0       0.80      0.97      0.88        79\n",
            "           1       0.87      0.41      0.55        32\n",
            "\n",
            "    accuracy                           0.81       111\n",
            "   macro avg       0.83      0.69      0.72       111\n",
            "weighted avg       0.82      0.81      0.79       111\n",
            "\n"
          ]
        }
      ]
    },
    {
      "cell_type": "code",
      "source": [
        "print(clf.best_params_)\n",
        "grid_predictions = clf.predict(X_test)\n",
        "print(classification_report(y_test, grid_predictions))\n",
        "mean_squared_error(y_test,grid_predictions)"
      ],
      "metadata": {
        "colab": {
          "base_uri": "https://localhost:8080/"
        },
        "id": "NxPrshxgEZ6n",
        "outputId": "37f8434f-31e1-444c-ce3b-c5d7c0d08434"
      },
      "execution_count": null,
      "outputs": [
        {
          "output_type": "stream",
          "name": "stdout",
          "text": [
            "{'C': 10.0, 'penalty': 'l1', 'solver': 'liblinear'}\n",
            "              precision    recall  f1-score   support\n",
            "\n",
            "           0       0.80      0.97      0.88        79\n",
            "           1       0.87      0.41      0.55        32\n",
            "\n",
            "    accuracy                           0.81       111\n",
            "   macro avg       0.83      0.69      0.72       111\n",
            "weighted avg       0.82      0.81      0.79       111\n",
            "\n"
          ]
        },
        {
          "output_type": "execute_result",
          "data": {
            "text/plain": [
              "0.1891891891891892"
            ]
          },
          "metadata": {},
          "execution_count": 31
        }
      ]
    },
    {
      "cell_type": "code",
      "source": [
        "from sklearn.model_selection import GridSearchCV\n",
        "from sklearn import svm\n",
        "from sklearn.svm import SVC\n",
        "# fitting the model for grid search\n",
        "\n",
        "clf_svm=svm.SVC()\n",
        "\n",
        "param_grid = {'C': [0.1, 1, 10, 100, 1000],\n",
        "              'gamma': [1, 0.1, 0.01, 0.001, 0.0001],\n",
        "              'kernel': ['rbf']}\n",
        "\n",
        "grid = GridSearchCV(clf_svm, param_grid, refit = True, verbose = 3)\n",
        "\n",
        "# fitting the model for grid search\n",
        "grid.fit(X_train, y_train)"
      ],
      "metadata": {
        "colab": {
          "base_uri": "https://localhost:8080/"
        },
        "id": "WhkSReNN41Eo",
        "outputId": "c0402f16-1179-4796-b188-d56c2e985557"
      },
      "execution_count": null,
      "outputs": [
        {
          "output_type": "stream",
          "name": "stdout",
          "text": [
            "Fitting 5 folds for each of 25 candidates, totalling 125 fits\n",
            "[CV 1/5] END ........C=0.1, gamma=1, kernel=rbf;, score=0.708 total time=   0.0s\n",
            "[CV 2/5] END ........C=0.1, gamma=1, kernel=rbf;, score=0.708 total time=   0.0s\n",
            "[CV 3/5] END ........C=0.1, gamma=1, kernel=rbf;, score=0.708 total time=   0.0s\n",
            "[CV 4/5] END ........C=0.1, gamma=1, kernel=rbf;, score=0.705 total time=   0.0s\n",
            "[CV 5/5] END ........C=0.1, gamma=1, kernel=rbf;, score=0.705 total time=   0.0s\n",
            "[CV 1/5] END ......C=0.1, gamma=0.1, kernel=rbf;, score=0.708 total time=   0.0s\n",
            "[CV 2/5] END ......C=0.1, gamma=0.1, kernel=rbf;, score=0.708 total time=   0.0s\n",
            "[CV 3/5] END ......C=0.1, gamma=0.1, kernel=rbf;, score=0.708 total time=   0.0s\n",
            "[CV 4/5] END ......C=0.1, gamma=0.1, kernel=rbf;, score=0.705 total time=   0.0s\n",
            "[CV 5/5] END ......C=0.1, gamma=0.1, kernel=rbf;, score=0.705 total time=   0.0s\n",
            "[CV 1/5] END .....C=0.1, gamma=0.01, kernel=rbf;, score=0.708 total time=   0.0s\n",
            "[CV 2/5] END .....C=0.1, gamma=0.01, kernel=rbf;, score=0.708 total time=   0.0s\n",
            "[CV 3/5] END .....C=0.1, gamma=0.01, kernel=rbf;, score=0.708 total time=   0.0s\n",
            "[CV 4/5] END .....C=0.1, gamma=0.01, kernel=rbf;, score=0.705 total time=   0.0s\n",
            "[CV 5/5] END .....C=0.1, gamma=0.01, kernel=rbf;, score=0.705 total time=   0.0s\n",
            "[CV 1/5] END ....C=0.1, gamma=0.001, kernel=rbf;, score=0.742 total time=   0.0s\n",
            "[CV 2/5] END ....C=0.1, gamma=0.001, kernel=rbf;, score=0.708 total time=   0.0s\n",
            "[CV 3/5] END ....C=0.1, gamma=0.001, kernel=rbf;, score=0.730 total time=   0.0s\n",
            "[CV 4/5] END ....C=0.1, gamma=0.001, kernel=rbf;, score=0.739 total time=   0.0s\n",
            "[CV 5/5] END ....C=0.1, gamma=0.001, kernel=rbf;, score=0.716 total time=   0.0s\n",
            "[CV 1/5] END ...C=0.1, gamma=0.0001, kernel=rbf;, score=0.730 total time=   0.0s\n",
            "[CV 2/5] END ...C=0.1, gamma=0.0001, kernel=rbf;, score=0.719 total time=   0.0s\n",
            "[CV 3/5] END ...C=0.1, gamma=0.0001, kernel=rbf;, score=0.719 total time=   0.0s\n",
            "[CV 4/5] END ...C=0.1, gamma=0.0001, kernel=rbf;, score=0.750 total time=   0.0s\n",
            "[CV 5/5] END ...C=0.1, gamma=0.0001, kernel=rbf;, score=0.705 total time=   0.0s\n",
            "[CV 1/5] END ..........C=1, gamma=1, kernel=rbf;, score=0.708 total time=   0.0s\n",
            "[CV 2/5] END ..........C=1, gamma=1, kernel=rbf;, score=0.708 total time=   0.0s\n",
            "[CV 3/5] END ..........C=1, gamma=1, kernel=rbf;, score=0.708 total time=   0.0s\n",
            "[CV 4/5] END ..........C=1, gamma=1, kernel=rbf;, score=0.705 total time=   0.0s\n",
            "[CV 5/5] END ..........C=1, gamma=1, kernel=rbf;, score=0.705 total time=   0.0s\n",
            "[CV 1/5] END ........C=1, gamma=0.1, kernel=rbf;, score=0.708 total time=   0.0s\n",
            "[CV 2/5] END ........C=1, gamma=0.1, kernel=rbf;, score=0.708 total time=   0.0s\n",
            "[CV 3/5] END ........C=1, gamma=0.1, kernel=rbf;, score=0.708 total time=   0.0s\n",
            "[CV 4/5] END ........C=1, gamma=0.1, kernel=rbf;, score=0.705 total time=   0.0s\n",
            "[CV 5/5] END ........C=1, gamma=0.1, kernel=rbf;, score=0.705 total time=   0.0s\n",
            "[CV 1/5] END .......C=1, gamma=0.01, kernel=rbf;, score=0.753 total time=   0.0s\n",
            "[CV 2/5] END .......C=1, gamma=0.01, kernel=rbf;, score=0.753 total time=   0.0s\n",
            "[CV 3/5] END .......C=1, gamma=0.01, kernel=rbf;, score=0.697 total time=   0.0s\n",
            "[CV 4/5] END .......C=1, gamma=0.01, kernel=rbf;, score=0.659 total time=   0.0s\n",
            "[CV 5/5] END .......C=1, gamma=0.01, kernel=rbf;, score=0.739 total time=   0.0s\n",
            "[CV 1/5] END ......C=1, gamma=0.001, kernel=rbf;, score=0.742 total time=   0.0s\n",
            "[CV 2/5] END ......C=1, gamma=0.001, kernel=rbf;, score=0.775 total time=   0.0s\n",
            "[CV 3/5] END ......C=1, gamma=0.001, kernel=rbf;, score=0.787 total time=   0.0s\n",
            "[CV 4/5] END ......C=1, gamma=0.001, kernel=rbf;, score=0.739 total time=   0.0s\n",
            "[CV 5/5] END ......C=1, gamma=0.001, kernel=rbf;, score=0.761 total time=   0.0s\n",
            "[CV 1/5] END .....C=1, gamma=0.0001, kernel=rbf;, score=0.742 total time=   0.0s\n",
            "[CV 2/5] END .....C=1, gamma=0.0001, kernel=rbf;, score=0.775 total time=   0.0s\n",
            "[CV 3/5] END .....C=1, gamma=0.0001, kernel=rbf;, score=0.820 total time=   0.0s\n",
            "[CV 4/5] END .....C=1, gamma=0.0001, kernel=rbf;, score=0.761 total time=   0.0s\n",
            "[CV 5/5] END .....C=1, gamma=0.0001, kernel=rbf;, score=0.761 total time=   0.0s\n",
            "[CV 1/5] END .........C=10, gamma=1, kernel=rbf;, score=0.708 total time=   0.0s\n",
            "[CV 2/5] END .........C=10, gamma=1, kernel=rbf;, score=0.708 total time=   0.0s\n",
            "[CV 3/5] END .........C=10, gamma=1, kernel=rbf;, score=0.708 total time=   0.0s\n",
            "[CV 4/5] END .........C=10, gamma=1, kernel=rbf;, score=0.705 total time=   0.0s\n",
            "[CV 5/5] END .........C=10, gamma=1, kernel=rbf;, score=0.705 total time=   0.0s\n",
            "[CV 1/5] END .......C=10, gamma=0.1, kernel=rbf;, score=0.708 total time=   0.0s\n",
            "[CV 2/5] END .......C=10, gamma=0.1, kernel=rbf;, score=0.708 total time=   0.0s\n",
            "[CV 3/5] END .......C=10, gamma=0.1, kernel=rbf;, score=0.708 total time=   0.0s\n",
            "[CV 4/5] END .......C=10, gamma=0.1, kernel=rbf;, score=0.705 total time=   0.0s\n",
            "[CV 5/5] END .......C=10, gamma=0.1, kernel=rbf;, score=0.705 total time=   0.0s\n",
            "[CV 1/5] END ......C=10, gamma=0.01, kernel=rbf;, score=0.798 total time=   0.0s\n",
            "[CV 2/5] END ......C=10, gamma=0.01, kernel=rbf;, score=0.742 total time=   0.0s\n",
            "[CV 3/5] END ......C=10, gamma=0.01, kernel=rbf;, score=0.674 total time=   0.0s\n",
            "[CV 4/5] END ......C=10, gamma=0.01, kernel=rbf;, score=0.648 total time=   0.0s\n",
            "[CV 5/5] END ......C=10, gamma=0.01, kernel=rbf;, score=0.739 total time=   0.0s\n",
            "[CV 1/5] END .....C=10, gamma=0.001, kernel=rbf;, score=0.764 total time=   0.0s\n",
            "[CV 2/5] END .....C=10, gamma=0.001, kernel=rbf;, score=0.787 total time=   0.0s\n",
            "[CV 3/5] END .....C=10, gamma=0.001, kernel=rbf;, score=0.753 total time=   0.0s\n",
            "[CV 4/5] END .....C=10, gamma=0.001, kernel=rbf;, score=0.716 total time=   0.0s\n",
            "[CV 5/5] END .....C=10, gamma=0.001, kernel=rbf;, score=0.784 total time=   0.0s\n",
            "[CV 1/5] END ....C=10, gamma=0.0001, kernel=rbf;, score=0.764 total time=   0.0s\n",
            "[CV 2/5] END ....C=10, gamma=0.0001, kernel=rbf;, score=0.764 total time=   0.0s\n",
            "[CV 3/5] END ....C=10, gamma=0.0001, kernel=rbf;, score=0.809 total time=   0.0s\n",
            "[CV 4/5] END ....C=10, gamma=0.0001, kernel=rbf;, score=0.739 total time=   0.0s\n",
            "[CV 5/5] END ....C=10, gamma=0.0001, kernel=rbf;, score=0.807 total time=   0.0s\n",
            "[CV 1/5] END ........C=100, gamma=1, kernel=rbf;, score=0.708 total time=   0.0s\n",
            "[CV 2/5] END ........C=100, gamma=1, kernel=rbf;, score=0.708 total time=   0.0s\n",
            "[CV 3/5] END ........C=100, gamma=1, kernel=rbf;, score=0.708 total time=   0.0s\n",
            "[CV 4/5] END ........C=100, gamma=1, kernel=rbf;, score=0.705 total time=   0.0s\n",
            "[CV 5/5] END ........C=100, gamma=1, kernel=rbf;, score=0.705 total time=   0.0s\n",
            "[CV 1/5] END ......C=100, gamma=0.1, kernel=rbf;, score=0.708 total time=   0.0s\n",
            "[CV 2/5] END ......C=100, gamma=0.1, kernel=rbf;, score=0.708 total time=   0.0s\n",
            "[CV 3/5] END ......C=100, gamma=0.1, kernel=rbf;, score=0.708 total time=   0.0s\n",
            "[CV 4/5] END ......C=100, gamma=0.1, kernel=rbf;, score=0.705 total time=   0.0s\n",
            "[CV 5/5] END ......C=100, gamma=0.1, kernel=rbf;, score=0.705 total time=   0.0s\n",
            "[CV 1/5] END .....C=100, gamma=0.01, kernel=rbf;, score=0.798 total time=   0.0s\n",
            "[CV 2/5] END .....C=100, gamma=0.01, kernel=rbf;, score=0.742 total time=   0.0s\n",
            "[CV 3/5] END .....C=100, gamma=0.01, kernel=rbf;, score=0.674 total time=   0.0s\n",
            "[CV 4/5] END .....C=100, gamma=0.01, kernel=rbf;, score=0.648 total time=   0.0s\n",
            "[CV 5/5] END .....C=100, gamma=0.01, kernel=rbf;, score=0.739 total time=   0.0s\n",
            "[CV 1/5] END ....C=100, gamma=0.001, kernel=rbf;, score=0.674 total time=   0.0s\n",
            "[CV 2/5] END ....C=100, gamma=0.001, kernel=rbf;, score=0.730 total time=   0.0s\n",
            "[CV 3/5] END ....C=100, gamma=0.001, kernel=rbf;, score=0.697 total time=   0.0s\n",
            "[CV 4/5] END ....C=100, gamma=0.001, kernel=rbf;, score=0.693 total time=   0.0s\n",
            "[CV 5/5] END ....C=100, gamma=0.001, kernel=rbf;, score=0.682 total time=   0.0s\n",
            "[CV 1/5] END ...C=100, gamma=0.0001, kernel=rbf;, score=0.753 total time=   0.0s\n",
            "[CV 2/5] END ...C=100, gamma=0.0001, kernel=rbf;, score=0.764 total time=   0.0s\n",
            "[CV 3/5] END ...C=100, gamma=0.0001, kernel=rbf;, score=0.742 total time=   0.0s\n",
            "[CV 4/5] END ...C=100, gamma=0.0001, kernel=rbf;, score=0.750 total time=   0.0s\n",
            "[CV 5/5] END ...C=100, gamma=0.0001, kernel=rbf;, score=0.773 total time=   0.0s\n",
            "[CV 1/5] END .......C=1000, gamma=1, kernel=rbf;, score=0.708 total time=   0.0s\n",
            "[CV 2/5] END .......C=1000, gamma=1, kernel=rbf;, score=0.708 total time=   0.0s\n",
            "[CV 3/5] END .......C=1000, gamma=1, kernel=rbf;, score=0.708 total time=   0.0s\n",
            "[CV 4/5] END .......C=1000, gamma=1, kernel=rbf;, score=0.705 total time=   0.0s\n",
            "[CV 5/5] END .......C=1000, gamma=1, kernel=rbf;, score=0.705 total time=   0.0s\n",
            "[CV 1/5] END .....C=1000, gamma=0.1, kernel=rbf;, score=0.708 total time=   0.0s\n",
            "[CV 2/5] END .....C=1000, gamma=0.1, kernel=rbf;, score=0.708 total time=   0.0s\n",
            "[CV 3/5] END .....C=1000, gamma=0.1, kernel=rbf;, score=0.708 total time=   0.0s\n",
            "[CV 4/5] END .....C=1000, gamma=0.1, kernel=rbf;, score=0.705 total time=   0.0s\n",
            "[CV 5/5] END .....C=1000, gamma=0.1, kernel=rbf;, score=0.705 total time=   0.0s\n",
            "[CV 1/5] END ....C=1000, gamma=0.01, kernel=rbf;, score=0.798 total time=   0.0s\n",
            "[CV 2/5] END ....C=1000, gamma=0.01, kernel=rbf;, score=0.742 total time=   0.0s\n",
            "[CV 3/5] END ....C=1000, gamma=0.01, kernel=rbf;, score=0.674 total time=   0.0s\n",
            "[CV 4/5] END ....C=1000, gamma=0.01, kernel=rbf;, score=0.648 total time=   0.0s\n",
            "[CV 5/5] END ....C=1000, gamma=0.01, kernel=rbf;, score=0.739 total time=   0.0s\n",
            "[CV 1/5] END ...C=1000, gamma=0.001, kernel=rbf;, score=0.697 total time=   0.0s\n",
            "[CV 2/5] END ...C=1000, gamma=0.001, kernel=rbf;, score=0.685 total time=   0.0s\n",
            "[CV 3/5] END ...C=1000, gamma=0.001, kernel=rbf;, score=0.685 total time=   0.0s\n",
            "[CV 4/5] END ...C=1000, gamma=0.001, kernel=rbf;, score=0.659 total time=   0.0s\n",
            "[CV 5/5] END ...C=1000, gamma=0.001, kernel=rbf;, score=0.625 total time=   0.0s\n",
            "[CV 1/5] END ..C=1000, gamma=0.0001, kernel=rbf;, score=0.764 total time=   0.0s\n",
            "[CV 2/5] END ..C=1000, gamma=0.0001, kernel=rbf;, score=0.764 total time=   0.0s\n",
            "[CV 3/5] END ..C=1000, gamma=0.0001, kernel=rbf;, score=0.685 total time=   0.0s\n",
            "[CV 4/5] END ..C=1000, gamma=0.0001, kernel=rbf;, score=0.682 total time=   0.0s\n",
            "[CV 5/5] END ..C=1000, gamma=0.0001, kernel=rbf;, score=0.727 total time=   0.0s\n"
          ]
        },
        {
          "output_type": "execute_result",
          "data": {
            "text/plain": [
              "GridSearchCV(estimator=SVC(),\n",
              "             param_grid={'C': [0.1, 1, 10, 100, 1000],\n",
              "                         'gamma': [1, 0.1, 0.01, 0.001, 0.0001],\n",
              "                         'kernel': ['rbf']},\n",
              "             verbose=3)"
            ]
          },
          "metadata": {},
          "execution_count": 32
        }
      ]
    },
    {
      "cell_type": "code",
      "source": [
        "print(grid.best_params_)\n",
        "grid_predictions = grid.predict(X_test)\n",
        "print(classification_report(y_test, grid_predictions))\n",
        "mean_squared_error(y_test,grid_predictions)"
      ],
      "metadata": {
        "colab": {
          "base_uri": "https://localhost:8080/"
        },
        "id": "p4fY0rN867mT",
        "outputId": "0f7df829-34c3-40f1-e1d7-3cd065f3ec0d"
      },
      "execution_count": null,
      "outputs": [
        {
          "output_type": "stream",
          "name": "stdout",
          "text": [
            "{'C': 10, 'gamma': 0.0001, 'kernel': 'rbf'}\n",
            "              precision    recall  f1-score   support\n",
            "\n",
            "           0       0.81      0.97      0.89        79\n",
            "           1       0.88      0.44      0.58        32\n",
            "\n",
            "    accuracy                           0.82       111\n",
            "   macro avg       0.84      0.71      0.73       111\n",
            "weighted avg       0.83      0.82      0.80       111\n",
            "\n"
          ]
        },
        {
          "output_type": "execute_result",
          "data": {
            "text/plain": [
              "0.18018018018018017"
            ]
          },
          "metadata": {},
          "execution_count": 33
        }
      ]
    },
    {
      "cell_type": "code",
      "source": [
        "from sklearn import svm\n",
        "from sklearn.svm import SVC\n",
        "svc=svm.SVC(gamma=0.0001, C=10, kernel='rbf')\n",
        "svc.fit(X_train,y_train)\n",
        "y_pred=svc.predict(X_test)\n",
        "print(classification_report(y_test, y_pred))"
      ],
      "metadata": {
        "colab": {
          "base_uri": "https://localhost:8080/"
        },
        "id": "Dr6obh2XJmjw",
        "outputId": "decfd23f-b0d8-4ca0-d78c-39c53013fe37"
      },
      "execution_count": null,
      "outputs": [
        {
          "output_type": "stream",
          "name": "stdout",
          "text": [
            "              precision    recall  f1-score   support\n",
            "\n",
            "           0       0.81      0.97      0.89        79\n",
            "           1       0.88      0.44      0.58        32\n",
            "\n",
            "    accuracy                           0.82       111\n",
            "   macro avg       0.84      0.71      0.73       111\n",
            "weighted avg       0.83      0.82      0.80       111\n",
            "\n"
          ]
        }
      ]
    },
    {
      "cell_type": "code",
      "source": [
        "rf = RandomForestClassifier(n_jobs=-1 ,max_features= 'sqrt', oob_score = True)\n",
        "param_grid = {\n",
        "    'n_estimators': [200, 700]\n",
        "}\n",
        "\n",
        "rfc = GridSearchCV(estimator=rf, param_grid=param_grid, cv= 5)\n",
        "rfc.fit(X_train,y_train)\n",
        "print(classification_report(y_test,rfc.predict(X_test)))\n",
        "\n",
        "print(rfc.best_params_)\n"
      ],
      "metadata": {
        "colab": {
          "base_uri": "https://localhost:8080/"
        },
        "id": "1c8uOLLLD44Z",
        "outputId": "43b94873-fb44-4663-9485-3dd6fd2d0b1e"
      },
      "execution_count": null,
      "outputs": [
        {
          "output_type": "stream",
          "name": "stdout",
          "text": [
            "              precision    recall  f1-score   support\n",
            "\n",
            "           0       0.85      0.90      0.87        79\n",
            "           1       0.70      0.59      0.64        32\n",
            "\n",
            "    accuracy                           0.81       111\n",
            "   macro avg       0.77      0.75      0.76       111\n",
            "weighted avg       0.80      0.81      0.81       111\n",
            "\n",
            "{'n_estimators': 700}\n",
            "              precision    recall  f1-score   support\n",
            "\n",
            "           0       0.85      0.90      0.87        79\n",
            "           1       0.70      0.59      0.64        32\n",
            "\n",
            "    accuracy                           0.81       111\n",
            "   macro avg       0.77      0.75      0.76       111\n",
            "weighted avg       0.80      0.81      0.81       111\n",
            "\n"
          ]
        },
        {
          "output_type": "execute_result",
          "data": {
            "text/plain": [
              "0.1891891891891892"
            ]
          },
          "metadata": {},
          "execution_count": 36
        }
      ]
    },
    {
      "cell_type": "code",
      "source": [
        "rf = RandomForestClassifier(n_jobs=-1 ,n_estimators=700, oob_score = True, max_features='sqrt')\n",
        "rf.fit(X_train,y_train)\n",
        "y_pred=rf.predict(X_test)\n",
        "print(classification_report(y_test, y_pred))"
      ],
      "metadata": {
        "colab": {
          "base_uri": "https://localhost:8080/"
        },
        "id": "gTF5s4knKLF4",
        "outputId": "e61ac121-2dc5-42d8-9572-4d6b87daefd1"
      },
      "execution_count": null,
      "outputs": [
        {
          "output_type": "stream",
          "name": "stdout",
          "text": [
            "              precision    recall  f1-score   support\n",
            "\n",
            "           0       0.85      0.90      0.87        79\n",
            "           1       0.70      0.59      0.64        32\n",
            "\n",
            "    accuracy                           0.81       111\n",
            "   macro avg       0.77      0.75      0.76       111\n",
            "weighted avg       0.80      0.81      0.81       111\n",
            "\n"
          ]
        }
      ]
    },
    {
      "cell_type": "code",
      "source": [
        "gcf = GaussianNB()\n",
        "gcf.fit(X_train,y_train)\n",
        "\n",
        "\n",
        "gcf_predictions = gcf.predict(X_test)\n",
        "print(classification_report(y_test, gcf_predictions))\n",
        "mean_squared_error(y_test,gcf_predictions)\n",
        ""
      ],
      "metadata": {
        "colab": {
          "base_uri": "https://localhost:8080/"
        },
        "id": "zWk8Z7XvFK9s",
        "outputId": "0c521de7-1087-4d6e-c04a-22d7f5292f8f"
      },
      "execution_count": null,
      "outputs": [
        {
          "output_type": "stream",
          "name": "stdout",
          "text": [
            "              precision    recall  f1-score   support\n",
            "\n",
            "           0       0.80      0.90      0.85        79\n",
            "           1       0.64      0.44      0.52        32\n",
            "\n",
            "    accuracy                           0.77       111\n",
            "   macro avg       0.72      0.67      0.68       111\n",
            "weighted avg       0.75      0.77      0.75       111\n",
            "\n"
          ]
        },
        {
          "output_type": "execute_result",
          "data": {
            "text/plain": [
              "0.23423423423423423"
            ]
          },
          "metadata": {},
          "execution_count": 37
        }
      ]
    },
    {
      "cell_type": "markdown",
      "source": [
        "VOTING CLASSIFIER"
      ],
      "metadata": {
        "id": "4P92KCn4LRJZ"
      }
    },
    {
      "cell_type": "code",
      "source": [
        "#If we use max_iter > 1100 then accuracy degrades\n",
        "\n",
        "voting = VotingClassifier(estimators = [('lr', lr), ('rf', rf), ('svc',svc), ('gnb',gcf)],voting= \"hard\")\n",
        "voting.fit(X_train,y_train)"
      ],
      "metadata": {
        "colab": {
          "base_uri": "https://localhost:8080/"
        },
        "id": "ugNLG675GVs3",
        "outputId": "f6e820ee-98ac-4d62-ffc7-5ce492981a12"
      },
      "execution_count": null,
      "outputs": [
        {
          "output_type": "execute_result",
          "data": {
            "text/plain": [
              "VotingClassifier(estimators=[('lr',\n",
              "                              LogisticRegression(C=10.0, penalty='l1',\n",
              "                                                 solver='liblinear')),\n",
              "                             ('rf',\n",
              "                              RandomForestClassifier(max_features='sqrt',\n",
              "                                                     n_estimators=700,\n",
              "                                                     n_jobs=-1,\n",
              "                                                     oob_score=True)),\n",
              "                             ('svc', SVC(C=10, gamma=0.0001)),\n",
              "                             ('gnb', GaussianNB())])"
            ]
          },
          "metadata": {},
          "execution_count": 38
        }
      ]
    },
    {
      "cell_type": "code",
      "source": [
        "print(classification_report(voting.predict(X_test),y_test))"
      ],
      "metadata": {
        "colab": {
          "base_uri": "https://localhost:8080/"
        },
        "id": "hqOMDDqlG9nI",
        "outputId": "fc3ecd80-8f6c-4dfa-d5d3-57386fa8c37d"
      },
      "execution_count": null,
      "outputs": [
        {
          "output_type": "stream",
          "name": "stdout",
          "text": [
            "              precision    recall  f1-score   support\n",
            "\n",
            "           0       0.97      0.80      0.88        96\n",
            "           1       0.41      0.87      0.55        15\n",
            "\n",
            "    accuracy                           0.81       111\n",
            "   macro avg       0.69      0.83      0.72       111\n",
            "weighted avg       0.90      0.81      0.84       111\n",
            "\n"
          ]
        }
      ]
    },
    {
      "cell_type": "code",
      "source": [
        "vote_pred=voting.predict(X_test)\n",
        "mean_squared_error(y_test,vote_pred)"
      ],
      "metadata": {
        "colab": {
          "base_uri": "https://localhost:8080/"
        },
        "id": "GU6Sw5ppKv0W",
        "outputId": "becb13e3-8872-47dd-94fe-0e09af15d0ae"
      },
      "execution_count": null,
      "outputs": [
        {
          "output_type": "execute_result",
          "data": {
            "text/plain": [
              "0.1891891891891892"
            ]
          },
          "metadata": {},
          "execution_count": 40
        }
      ]
    },
    {
      "cell_type": "code",
      "source": [],
      "metadata": {
        "id": "SUPelpFxLJ_v"
      },
      "execution_count": null,
      "outputs": []
    },
    {
      "cell_type": "markdown",
      "source": [
        "Weighted Average"
      ],
      "metadata": {
        "id": "5FnJXz9QLYCS"
      }
    },
    {
      "cell_type": "code",
      "source": [
        "lr=LogisticRegression(solver='liblinear', C=10.0, penalty='l1')\n",
        "rf = RandomForestClassifier(n_jobs=-1 ,n_estimators=700, oob_score = True, max_features='sqrt')\n",
        "svc=svm.SVC(gamma=0.0001, C=10, kernel='rbf')\n",
        "lr.fit(X_train, y_train)\n",
        "rf.fit(X_train, y_train)\n",
        "svc.fit(X_train, y_train)\n",
        "final_predict = 0.5*lr.predict(X_test) + 0.2*rf.predict(X_test) +  0.3*svc.predict(X_test)\n",
        "#print(final_predict)\n",
        "for i in range(len(final_predict)):\n",
        "    if final_predict[i] >= 0.5 :\n",
        "        final_predict[i] = 1\n",
        "    else:\n",
        "        final_predict[i] = 0\n",
        "#final_predict\n",
        "print(classification_report(y_test,final_predict))"
      ],
      "metadata": {
        "colab": {
          "base_uri": "https://localhost:8080/"
        },
        "id": "-1AXPFnxRpCa",
        "outputId": "0c223012-836b-4280-f894-629b1e99825d"
      },
      "execution_count": null,
      "outputs": [
        {
          "output_type": "stream",
          "name": "stdout",
          "text": [
            "              precision    recall  f1-score   support\n",
            "\n",
            "           0       0.81      0.96      0.88        79\n",
            "           1       0.82      0.44      0.57        32\n",
            "\n",
            "    accuracy                           0.81       111\n",
            "   macro avg       0.82      0.70      0.73       111\n",
            "weighted avg       0.81      0.81      0.79       111\n",
            "\n"
          ]
        }
      ]
    },
    {
      "cell_type": "code",
      "source": [],
      "metadata": {
        "id": "3pgmKk9mNXqI"
      },
      "execution_count": null,
      "outputs": []
    },
    {
      "cell_type": "markdown",
      "source": [
        "Stacking"
      ],
      "metadata": {
        "id": "bvdU4AFsNf_l"
      }
    },
    {
      "cell_type": "code",
      "source": [
        "import xgboost as xgb\n",
        "from sklearn.ensemble import AdaBoostClassifier\n",
        "from ngboost import NGBClassifier\n",
        "from ngboost.distns import Bernoulli"
      ],
      "metadata": {
        "id": "wXvFsABJPcCa"
      },
      "execution_count": null,
      "outputs": []
    },
    {
      "cell_type": "code",
      "source": [
        "models = [AdaBoostClassifier(n_estimators=50,learning_rate=1),\n",
        "         NGBClassifier(Dist=Bernoulli),\n",
        "         xgb.XGBClassifier(learning_rate = 0.01,n_estimators= 2000,\n",
        "                           max_depth= 9,\n",
        "                            min_child_weight= 2,\n",
        "                            #gamma=1,\n",
        "                             gamma=0.4,\n",
        "                             subsample=0.8,\n",
        "                             colsample_bytree=0.8,\n",
        "                             objective= 'binary:logistic',\n",
        "                              nthread= -1,\n",
        "                              scale_pos_weight=1)]\n",
        "         #KNeighborsClassifier(n_neighbors=5,n_jobs=-1)]\n",
        "level1_train,level1_test = stacking(models,X_train,y_train,X_test,\n",
        "                                   regression=False,\n",
        "                                   mode='oof_pred_bag',\n",
        "                                   needs_proba=False,\n",
        "                                   save_dir=None,\n",
        "                                   metric=accuracy_score,\n",
        "                                   n_folds=4,\n",
        "                                   stratified=True,\n",
        "                                   shuffle=True,\n",
        "                                   random_state=0,\n",
        "                                   verbose=2)"
      ],
      "metadata": {
        "colab": {
          "base_uri": "https://localhost:8080/"
        },
        "id": "wjIiLuw2PvMa",
        "outputId": "5ba8a31c-0541-447a-807a-3595a42713d0"
      },
      "execution_count": null,
      "outputs": [
        {
          "output_type": "stream",
          "name": "stdout",
          "text": [
            "task:         [classification]\n",
            "n_classes:    [2]\n",
            "metric:       [accuracy_score]\n",
            "mode:         [oof_pred_bag]\n",
            "n_models:     [3]\n",
            "\n",
            "model  0:     [AdaBoostClassifier]\n",
            "    fold  0:  [0.64864865]\n",
            "    fold  1:  [0.77477477]\n",
            "    fold  2:  [0.74774775]\n",
            "    fold  3:  [0.70909091]\n",
            "    ----\n",
            "    MEAN:     [0.72006552] + [0.04738201]\n",
            "    FULL:     [0.72009029]\n",
            "\n",
            "model  1:     [NGBClassifier]\n",
            "[iter 0] loss=0.6067 val_loss=0.0000 scale=2.0000 norm=4.0000\n",
            "[iter 100] loss=0.3243 val_loss=0.0000 scale=2.0000 norm=2.9798\n",
            "[iter 200] loss=0.2989 val_loss=0.0000 scale=1.0000 norm=1.4621\n",
            "[iter 300] loss=0.2926 val_loss=0.0000 scale=0.5000 norm=0.7278\n",
            "[iter 400] loss=0.2903 val_loss=0.0000 scale=0.5000 norm=0.7270\n",
            "    fold  0:  [0.76576577]\n",
            "[iter 0] loss=0.6041 val_loss=0.0000 scale=2.0000 norm=4.0000\n",
            "[iter 100] loss=0.3438 val_loss=0.0000 scale=2.0000 norm=3.0533\n",
            "[iter 200] loss=0.3068 val_loss=0.0000 scale=1.0000 norm=1.4878\n",
            "[iter 300] loss=0.2937 val_loss=0.0000 scale=1.0000 norm=1.4739\n",
            "[iter 400] loss=0.2871 val_loss=0.0000 scale=0.5000 norm=0.7334\n",
            "    fold  1:  [0.77477477]\n",
            "[iter 0] loss=0.6041 val_loss=0.0000 scale=2.0000 norm=4.0000\n",
            "[iter 100] loss=0.3384 val_loss=0.0000 scale=2.0000 norm=3.0175\n",
            "[iter 200] loss=0.2872 val_loss=0.0000 scale=1.0000 norm=1.4399\n",
            "[iter 300] loss=0.2747 val_loss=0.0000 scale=0.5000 norm=0.7130\n",
            "[iter 400] loss=0.2686 val_loss=0.0000 scale=1.0000 norm=1.4191\n",
            "    fold  2:  [0.77477477]\n",
            "[iter 0] loss=0.6060 val_loss=0.0000 scale=2.0000 norm=4.0000\n",
            "[iter 100] loss=0.3114 val_loss=0.0000 scale=2.0000 norm=2.8992\n",
            "[iter 200] loss=0.2785 val_loss=0.0000 scale=1.0000 norm=1.4111\n",
            "[iter 300] loss=0.2659 val_loss=0.0000 scale=1.0000 norm=1.3968\n",
            "[iter 400] loss=0.2598 val_loss=0.0000 scale=1.0000 norm=1.3904\n",
            "    fold  3:  [0.75454545]\n",
            "    ----\n",
            "    MEAN:     [0.76746519] + [0.00831666]\n",
            "    FULL:     [0.76749436]\n",
            "\n",
            "model  2:     [XGBClassifier]\n",
            "    fold  0:  [0.75675676]\n",
            "    fold  1:  [0.74774775]\n",
            "    fold  2:  [0.78378378]\n",
            "    fold  3:  [0.74545455]\n",
            "    ----\n",
            "    MEAN:     [0.75843571] + [0.01523226]\n",
            "    FULL:     [0.75846501]\n",
            "\n"
          ]
        }
      ]
    },
    {
      "cell_type": "code",
      "source": [
        "model = xgb.XGBClassifier(learning_rate = 0.1,n_estimators= 2000,max_depth= 3)\n",
        "model.fit(level1_train,y_train)\n",
        "predicted = model.predict(level1_test)\n",
        "print(classification_report(predicted,y_test))"
      ],
      "metadata": {
        "colab": {
          "base_uri": "https://localhost:8080/"
        },
        "id": "13j5nbq0QMmL",
        "outputId": "dbd1d442-ff27-44f5-b60c-3e4f7102ff27"
      },
      "execution_count": null,
      "outputs": [
        {
          "output_type": "stream",
          "name": "stdout",
          "text": [
            "              precision    recall  f1-score   support\n",
            "\n",
            "           0       0.91      0.84      0.87        86\n",
            "           1       0.56      0.72      0.63        25\n",
            "\n",
            "    accuracy                           0.81       111\n",
            "   macro avg       0.74      0.78      0.75       111\n",
            "weighted avg       0.83      0.81      0.82       111\n",
            "\n"
          ]
        }
      ]
    },
    {
      "cell_type": "code",
      "source": [
        "X = df.drop(['Outcome'], axis=1)\n",
        "y = df['Outcome']\n",
        "X_train, X_test, y_train, y_test = train_test_split(X, y, test_size=0.2, random_state=42, stratify=y)\n",
        "\n",
        "xgbc = xgb.XGBClassifier(\n",
        " learning_rate = 0.01,\n",
        " n_estimators= 2000,\n",
        " max_depth= 9,\n",
        " min_child_weight= 2,\n",
        " #gamma=1,\n",
        " gamma=0.4,\n",
        " subsample=0.8,\n",
        " colsample_bytree=0.8,\n",
        " objective= 'binary:logistic',\n",
        " nthread= -1,\n",
        " scale_pos_weight=1).fit(X_train, y_train)"
      ],
      "metadata": {
        "id": "QplkddbRQhOr"
      },
      "execution_count": null,
      "outputs": []
    },
    {
      "cell_type": "code",
      "source": [
        "\n",
        "print(classification_report(y_test,xgbc.predict(X_test)))"
      ],
      "metadata": {
        "colab": {
          "base_uri": "https://localhost:8080/"
        },
        "id": "-lWuNPpFfczA",
        "outputId": "3e947bed-c5c8-408a-aa4e-f774feedb5ea"
      },
      "execution_count": null,
      "outputs": [
        {
          "output_type": "stream",
          "name": "stdout",
          "text": [
            "              precision    recall  f1-score   support\n",
            "\n",
            "           0       0.83      0.91      0.87        79\n",
            "           1       0.71      0.53      0.61        32\n",
            "\n",
            "    accuracy                           0.80       111\n",
            "   macro avg       0.77      0.72      0.74       111\n",
            "weighted avg       0.79      0.80      0.79       111\n",
            "\n"
          ]
        }
      ]
    },
    {
      "cell_type": "markdown",
      "source": [
        "Bagging Decision Tree"
      ],
      "metadata": {
        "id": "PbA7xyW--iBC"
      }
    },
    {
      "cell_type": "code",
      "source": [
        "dt = DecisionTreeClassifier(random_state=42)\n",
        "params = {\n",
        "    'max_depth': [2, 3, 5, 10, 20, 30],\n",
        "    'min_samples_leaf': [5, 10, 20, 50, 100, 200, 400],\n",
        "    'criterion': [\"gini\", \"entropy\",\"log_loss\"],\n",
        "\n",
        "}\n",
        "X = df.drop(['Outcome'], axis=1)\n",
        "y = df['Outcome']\n",
        "X_train, X_test, y_train, y_test = train_test_split(X, y, test_size=0.2, random_state=42, stratify=y)\n",
        "dtcv = GridSearchCV(estimator=dt, param_grid=params, cv= 5, n_jobs=-1, verbose=1, scoring = \"accuracy\")\n",
        "dtcv.fit(X_train,y_train)\n",
        "print(classification_report(y_test,dtcv.predict(X_test)))\n",
        "\n",
        "#rf = RandomForestClassifier(n_jobs=-1,max_features= 'sqrt' ,n_estimators=100, oob_score = True, max_features)\n",
        "print(dtcv.best_params_)\n",
        "dtcv_predictions = dtcv.predict(X_test)\n",
        "mean_squared_error(y_test,dtcv_predictions)"
      ],
      "metadata": {
        "colab": {
          "base_uri": "https://localhost:8080/"
        },
        "id": "W5bt1IhI-haO",
        "outputId": "09353068-d2bb-4ec7-e970-d1889fa7ddea"
      },
      "execution_count": null,
      "outputs": [
        {
          "output_type": "stream",
          "name": "stdout",
          "text": [
            "Fitting 5 folds for each of 126 candidates, totalling 630 fits\n",
            "              precision    recall  f1-score   support\n",
            "\n",
            "           0       0.81      0.92      0.86        79\n",
            "           1       0.71      0.47      0.57        32\n",
            "\n",
            "    accuracy                           0.79       111\n",
            "   macro avg       0.76      0.70      0.71       111\n",
            "weighted avg       0.78      0.79      0.78       111\n",
            "\n",
            "{'criterion': 'entropy', 'max_depth': 10, 'min_samples_leaf': 20}\n"
          ]
        },
        {
          "output_type": "execute_result",
          "data": {
            "text/plain": [
              "0.2072072072072072"
            ]
          },
          "metadata": {},
          "execution_count": 8
        }
      ]
    },
    {
      "cell_type": "code",
      "source": [
        "X = df.drop(['Outcome'], axis=1)\n",
        "y = df['Outcome']\n",
        "X_train, X_test, y_train, y_test = train_test_split(X, y, test_size=0.2, random_state=42, stratify=y)\n",
        "bagging = BaggingClassifier(DecisionTreeClassifier(random_state=42, criterion = 'entropy',max_depth=10, min_samples_leaf=20 ))\n",
        "bagging.fit(X_train,y_train)"
      ],
      "metadata": {
        "id": "7QM7SIyMhj_y",
        "colab": {
          "base_uri": "https://localhost:8080/"
        },
        "outputId": "caaa83c2-07ed-41d0-b463-06a6e5523687"
      },
      "execution_count": null,
      "outputs": [
        {
          "output_type": "execute_result",
          "data": {
            "text/plain": [
              "BaggingClassifier(base_estimator=DecisionTreeClassifier(criterion='entropy',\n",
              "                                                        max_depth=10,\n",
              "                                                        min_samples_leaf=20,\n",
              "                                                        random_state=42))"
            ]
          },
          "metadata": {},
          "execution_count": 11
        }
      ]
    },
    {
      "cell_type": "code",
      "source": [
        "y_pred=bagging.predict(X_test)\n",
        "print(classification_report(y_test, y_pred))"
      ],
      "metadata": {
        "colab": {
          "base_uri": "https://localhost:8080/"
        },
        "id": "UBDkFi92-Tzf",
        "outputId": "c7a61a34-3ac9-4a1c-c9da-a5cb85583d02"
      },
      "execution_count": null,
      "outputs": [
        {
          "output_type": "stream",
          "name": "stdout",
          "text": [
            "              precision    recall  f1-score   support\n",
            "\n",
            "           0       0.82      0.95      0.88        79\n",
            "           1       0.80      0.50      0.62        32\n",
            "\n",
            "    accuracy                           0.82       111\n",
            "   macro avg       0.81      0.72      0.75       111\n",
            "weighted avg       0.82      0.82      0.81       111\n",
            "\n"
          ]
        }
      ]
    },
    {
      "cell_type": "code",
      "source": [],
      "metadata": {
        "id": "rygKE8M7_OvP"
      },
      "execution_count": null,
      "outputs": []
    }
  ]
}